{
 "cells": [
  {
   "cell_type": "code",
   "execution_count": 1,
   "metadata": {},
   "outputs": [],
   "source": [
    "import os"
   ]
  },
  {
   "cell_type": "code",
   "execution_count": 4,
   "metadata": {},
   "outputs": [
    {
     "data": {
      "text/plain": [
       "['italian',\n",
       " 'swedish',\n",
       " 'traditionalchinese',\n",
       " 'telugu',\n",
       " 'german',\n",
       " 'marathi',\n",
       " 'english',\n",
       " 'oriya',\n",
       " 'chinese',\n",
       " 'portuguese',\n",
       " 'thai',\n",
       " 'russian',\n",
       " 'japanese',\n",
       " 'persian',\n",
       " 'indonesian',\n",
       " 'spanish',\n",
       " 'korean',\n",
       " 'hebrew',\n",
       " 'french',\n",
       " 'bengali',\n",
       " 'hindi']"
      ]
     },
     "execution_count": 4,
     "metadata": {},
     "output_type": "execute_result"
    }
   ],
   "source": [
    "os.listdir(\"chatterbot-corpus-master/chatterbot_corpus/data\")"
   ]
  },
  {
   "cell_type": "code",
   "execution_count": 5,
   "metadata": {},
   "outputs": [
    {
     "name": "stdout",
     "output_type": "stream",
     "text": [
      "italian swedish traditionalchinese telugu german marathi english oriya chinese portuguese thai russian japanese persian indonesian spanish korean hebrew french bengali hindi "
     ]
    }
   ],
   "source": [
    "for i in os.listdir(\"chatterbot-corpus-master/chatterbot_corpus/data\"):\n",
    "    print(i,end=\" \")"
   ]
  },
  {
   "cell_type": "code",
   "execution_count": 6,
   "metadata": {},
   "outputs": [
    {
     "name": "stdout",
     "output_type": "stream",
     "text": [
      "italian\n",
      "swedish\n",
      "traditionalchinese\n",
      "telugu\n",
      "german\n",
      "marathi\n",
      "english\n",
      "oriya\n",
      "chinese\n",
      "portuguese\n",
      "thai\n",
      "russian\n",
      "japanese\n",
      "persian\n",
      "indonesian\n",
      "spanish\n",
      "korean\n",
      "hebrew\n",
      "french\n",
      "bengali\n",
      "hindi\n"
     ]
    }
   ],
   "source": [
    "for k in os.listdir(\"chatterbot-corpus-master/chatterbot_corpus/data\"):\n",
    "    print(k)"
   ]
  },
  {
   "cell_type": "code",
   "execution_count": 7,
   "metadata": {},
   "outputs": [],
   "source": [
    "from chatterbot import ChatBot"
   ]
  },
  {
   "cell_type": "code",
   "execution_count": 8,
   "metadata": {},
   "outputs": [],
   "source": [
    "from chatterbot.trainers import ListTrainer"
   ]
  },
  {
   "cell_type": "code",
   "execution_count": 9,
   "metadata": {},
   "outputs": [],
   "source": [
    "irfan=ChatBot('Bot')\n",
    "irfan.set_trainer(ListTrainer)"
   ]
  },
  {
   "cell_type": "code",
   "execution_count": 10,
   "metadata": {},
   "outputs": [
    {
     "name": "stdout",
     "output_type": "stream",
     "text": [
      "List Trainer: [####################] 100%\n",
      "List Trainer: [####################] 100%\n",
      "List Trainer: [####################] 100%\n",
      "List Trainer: [####################] 100%\n",
      "List Trainer: [####################] 100%\n",
      "List Trainer: [####################] 100%\n",
      "List Trainer: [####################] 100%\n",
      "List Trainer: [####################] 100%\n",
      "List Trainer: [####################] 100%\n",
      "List Trainer: [####################] 100%\n",
      "List Trainer: [####################] 100%\n",
      "List Trainer: [####################] 100%\n",
      "List Trainer: [####################] 100%\n",
      "List Trainer: [####################] 100%\n",
      "List Trainer: [####################] 100%\n",
      "List Trainer: [####################] 100%\n",
      "List Trainer: [####################] 100%\n",
      "List Trainer: [####################] 100%\n",
      "List Trainer: [####################] 100%\n"
     ]
    }
   ],
   "source": [
    "for i in os.listdir(\"chatterbot-corpus-master/chatterbot_corpus/data/english\"):\n",
    "    data=open(\"chatterbot-corpus-master/chatterbot_corpus/data/english/\"+i).readlines()\n",
    "    irfan.train(data)"
   ]
  },
  {
   "cell_type": "code",
   "execution_count": 12,
   "metadata": {},
   "outputs": [
    {
     "name": "stdout",
     "output_type": "stream",
     "text": [
      "List Trainer: [####################] 100%\n"
     ]
    }
   ],
   "source": [
    "irfan.train('bot')"
   ]
  },
  {
   "cell_type": "code",
   "execution_count": 25,
   "metadata": {},
   "outputs": [
    {
     "data": {
      "text/plain": [
       "<Statement text:I like you>"
      ]
     },
     "execution_count": 25,
     "metadata": {},
     "output_type": "execute_result"
    }
   ],
   "source": [
    "irfan.get_response(\"what is computer\")"
   ]
  },
  {
   "cell_type": "code",
   "execution_count": 26,
   "metadata": {},
   "outputs": [
    {
     "name": "stdout",
     "output_type": "stream",
     "text": [
      "enter to chat:what is computer\n",
      "reply is: I like you\n",
      "enter to chat:what is science\n",
      "reply is: what is science\n",
      "enter to chat:tell me about yourself?\n",
      "reply is: - What do you want to know?\n",
      "enter to chat:your history\n",
      "reply is: conversations:\n",
      "enter to chat:you have felling\n",
      "reply is: - I... sort of have feelings.\n",
      "enter to chat:tell me about computer\n",
      "reply is: you have felling\n",
      "enter to chat:what is gossip\n",
      "reply is: do you like me\n",
      "enter to chat:what is your work\n",
      "reply is: what is your name?\n",
      "enter to chat:what is your name\n",
      "reply is: I like football\n",
      "enter to chat:bye\n"
     ]
    }
   ],
   "source": [
    "while True:\n",
    "    ip=input(\"enter to chat:\")\n",
    "    if ip=='bye':\n",
    "        break \n",
    "    if ip!='bye':\n",
    "        reply=irfan.get_response(ip)\n",
    "        print(\"reply is:\",reply)"
   ]
  },
  {
   "cell_type": "code",
   "execution_count": null,
   "metadata": {},
   "outputs": [],
   "source": []
  }
 ],
 "metadata": {
  "kernelspec": {
   "display_name": "Python 3",
   "language": "python",
   "name": "python3"
  },
  "language_info": {
   "codemirror_mode": {
    "name": "ipython",
    "version": 3
   },
   "file_extension": ".py",
   "mimetype": "text/x-python",
   "name": "python",
   "nbconvert_exporter": "python",
   "pygments_lexer": "ipython3",
   "version": "3.7.3"
  }
 },
 "nbformat": 4,
 "nbformat_minor": 2
}
